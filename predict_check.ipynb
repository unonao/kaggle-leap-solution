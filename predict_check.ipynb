{
 "cells": [
  {
   "cell_type": "code",
   "execution_count": 4,
   "id": "67912423-78fa-4348-be0c-627b13ebb8ff",
   "metadata": {},
   "outputs": [
    {
     "name": "stdout",
     "output_type": "stream",
     "text": [
      "/kaggle/working\n"
     ]
    }
   ],
   "source": [
    "%cd /kaggle/working"
   ]
  },
  {
   "cell_type": "code",
   "execution_count": 5,
   "id": "6b13cf90-757f-4162-86b4-df245fe95e24",
   "metadata": {},
   "outputs": [],
   "source": [
    "import pickle\n",
    "from pathlib import Path\n",
    "\n",
    "import matplotlib.pyplot as plt\n",
    "import numpy as np\n",
    "import pandas as pd\n",
    "import polars as pl\n",
    "import seaborn as sns\n",
    "from hydra import compose, initialize\n",
    "from omegaconf import OmegaConf\n",
    "import gc\n",
    "from utils.metric import score"
   ]
  },
  {
   "cell_type": "code",
   "execution_count": 6,
   "id": "3f3cd25d-4c88-43c6-a76e-5713430414f3",
   "metadata": {},
   "outputs": [
    {
     "name": "stdout",
     "output_type": "stream",
     "text": [
      "204_diff_last/all_lr\n",
      "201_unet_multi/all_n3_restart2\n",
      "201_unet_multi/all_512_n3\n",
      "201_unet_multi/all_384_n2\n",
      "201_unet_multi/all\n",
      "217_fix_transformer_leak/all_cos_head64\n",
      "217_fix_transformer_leak/all_cos_head64_n4\n",
      "222_wo_transformer/all\n",
      "222_wo_transformer/all_004\n",
      "225_smoothl1_loss/all_005\n",
      "225_smoothl1_loss/all_beta\n"
     ]
    }
   ],
   "source": [
    "debug=False\n",
    "exp_names = ['204_diff_last/all_lr',\n",
    "             '201_unet_multi/all_n3_restart2',\n",
    "             '201_unet_multi/all_512_n3',\n",
    "             '201_unet_multi/all_384_n2',\n",
    "             '201_unet_multi/all',\n",
    "             '217_fix_transformer_leak/all_cos_head64',\n",
    "             '217_fix_transformer_leak/all_cos_head64_n4',\n",
    "             '222_wo_transformer/all',\n",
    "             '222_wo_transformer/all_004',\n",
    "             '225_smoothl1_loss/all_005',\n",
    "             '225_smoothl1_loss/all_beta',\n",
    "            ]\n",
    "\n",
    "for exp_name in exp_names:\n",
    "    print(exp_name)\n",
    "    old_submission_path = f'input/kami-leap-pred2/kami_experiments_{\"_\".join(exp_name.split(\"/\"))}_submission.parquet'\n",
    "    new_submission_path = f'output/experiments/{exp_name}/submission.parquet'\n",
    "    old_df = pl.read_parquet(old_submission_path, n_rows=500 if debug else None)\n",
    "    new_df = pl.read_parquet(new_submission_path, n_rows=500 if debug else None)\n",
    "    assert old_df.equals(new_df)\n",
    "    del old_df, new_df\n",
    "    gc.collect()"
   ]
  },
  {
   "cell_type": "code",
   "execution_count": null,
   "id": "3e2172b1-fb46-4adb-a87c-8ed4815f7804",
   "metadata": {},
   "outputs": [],
   "source": []
  }
 ],
 "metadata": {
  "kernelspec": {
   "display_name": "Python 3 (ipykernel) (Local)",
   "language": "python",
   "name": "python3"
  },
  "language_info": {
   "codemirror_mode": {
    "name": "ipython",
    "version": 3
   },
   "file_extension": ".py",
   "mimetype": "text/x-python",
   "name": "python",
   "nbconvert_exporter": "python",
   "pygments_lexer": "ipython3",
   "version": "3.10.13"
  }
 },
 "nbformat": 4,
 "nbformat_minor": 5
}
